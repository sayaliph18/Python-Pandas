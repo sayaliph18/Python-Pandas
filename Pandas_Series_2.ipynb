{
  "nbformat": 4,
  "nbformat_minor": 0,
  "metadata": {
    "colab": {
      "provenance": [],
      "authorship_tag": "ABX9TyNMiQam9X65no2BEW7tmBIz",
      "include_colab_link": true
    },
    "kernelspec": {
      "name": "python3",
      "display_name": "Python 3"
    },
    "language_info": {
      "name": "python"
    }
  },
  "cells": [
    {
      "cell_type": "markdown",
      "metadata": {
        "id": "view-in-github",
        "colab_type": "text"
      },
      "source": [
        "<a href=\"https://colab.research.google.com/github/sayaliph18/Python-Pandas/blob/main/Pandas_Series_2.ipynb\" target=\"_parent\"><img src=\"https://colab.research.google.com/assets/colab-badge.svg\" alt=\"Open In Colab\"/></a>"
      ]
    },
    {
      "cell_type": "code",
      "execution_count": 7,
      "metadata": {
        "id": "Yd7RF9o1k_an"
      },
      "outputs": [],
      "source": [
        "import pandas as pd\n",
        "import numpy as np"
      ]
    },
    {
      "cell_type": "markdown",
      "source": [
        "## **Series**"
      ],
      "metadata": {
        "id": "_9gNOMytllLA"
      }
    },
    {
      "cell_type": "code",
      "source": [
        "n = np.arange(1,11)\n",
        "pd.Series(n)"
      ],
      "metadata": {
        "colab": {
          "base_uri": "https://localhost:8080/"
        },
        "id": "6oJKIUjBljtp",
        "outputId": "577d804d-12bb-45cf-8910-9ca2e4a938c5"
      },
      "execution_count": 8,
      "outputs": [
        {
          "output_type": "execute_result",
          "data": {
            "text/plain": [
              "0     1\n",
              "1     2\n",
              "2     3\n",
              "3     4\n",
              "4     5\n",
              "5     6\n",
              "6     7\n",
              "7     8\n",
              "8     9\n",
              "9    10\n",
              "dtype: int64"
            ]
          },
          "metadata": {},
          "execution_count": 8
        }
      ]
    },
    {
      "cell_type": "code",
      "source": [
        "# Q. Create A Series using a dict\n",
        "pd.Series({'A':1,'B':2,'C':3})   # keys become an index"
      ],
      "metadata": {
        "colab": {
          "base_uri": "https://localhost:8080/"
        },
        "id": "Pp39AaCUlvm2",
        "outputId": "c634130a-5d78-4b4d-e6e4-c18d0b5c2228"
      },
      "execution_count": 9,
      "outputs": [
        {
          "output_type": "execute_result",
          "data": {
            "text/plain": [
              "A    1\n",
              "B    2\n",
              "C    3\n",
              "dtype: int64"
            ]
          },
          "metadata": {},
          "execution_count": 9
        }
      ]
    },
    {
      "cell_type": "code",
      "source": [
        "# how to create a scalar series\n",
        "# means all values set to constant\n",
        "pd.Series('Pune')"
      ],
      "metadata": {
        "colab": {
          "base_uri": "https://localhost:8080/"
        },
        "id": "efd1tKe6l6lC",
        "outputId": "a5bec44a-5284-4416-b835-9829f0451b0c"
      },
      "execution_count": 10,
      "outputs": [
        {
          "output_type": "execute_result",
          "data": {
            "text/plain": [
              "0    Pune\n",
              "dtype: object"
            ]
          },
          "metadata": {},
          "execution_count": 10
        }
      ]
    },
    {
      "cell_type": "code",
      "source": [
        "pd.Series('Puna',range(0,5))"
      ],
      "metadata": {
        "colab": {
          "base_uri": "https://localhost:8080/"
        },
        "id": "NJ4ZiEuxmD4K",
        "outputId": "ff91e3b9-b510-435f-d1c3-d3002a2ed6b6"
      },
      "execution_count": 11,
      "outputs": [
        {
          "output_type": "execute_result",
          "data": {
            "text/plain": [
              "0    Puna\n",
              "1    Puna\n",
              "2    Puna\n",
              "3    Puna\n",
              "4    Puna\n",
              "dtype: object"
            ]
          },
          "metadata": {},
          "execution_count": 11
        }
      ]
    },
    {
      "cell_type": "markdown",
      "source": [
        "## Methods related to Series"
      ],
      "metadata": {
        "id": "v5rZf0kImK4Q"
      }
    },
    {
      "cell_type": "code",
      "source": [
        "s = pd.Series(np.random.randint(2,12,10))\n",
        "s"
      ],
      "metadata": {
        "colab": {
          "base_uri": "https://localhost:8080/"
        },
        "id": "l2GahbihmHnK",
        "outputId": "55dcc154-1f5a-42d0-bab2-bc644f39ff00"
      },
      "execution_count": 12,
      "outputs": [
        {
          "output_type": "execute_result",
          "data": {
            "text/plain": [
              "0     6\n",
              "1     6\n",
              "2     4\n",
              "3    11\n",
              "4    10\n",
              "5     5\n",
              "6     6\n",
              "7     9\n",
              "8    10\n",
              "9     3\n",
              "dtype: int64"
            ]
          },
          "metadata": {},
          "execution_count": 12
        }
      ]
    },
    {
      "cell_type": "markdown",
      "source": [
        "# **Drop()** : Temp"
      ],
      "metadata": {
        "id": "Ctiqt46AmdFM"
      }
    },
    {
      "cell_type": "code",
      "source": [
        "#Remove elements of a Series based on specifying the index labels.\n",
        "# if we want to remove elements of row\n",
        "#then specify index\n",
        "s.drop(index=[7,1,5])"
      ],
      "metadata": {
        "colab": {
          "base_uri": "https://localhost:8080/"
        },
        "id": "2R7jIQxYmRh6",
        "outputId": "7a57a221-9f87-457b-a33b-420dfdfeaa34"
      },
      "execution_count": 13,
      "outputs": [
        {
          "output_type": "execute_result",
          "data": {
            "text/plain": [
              "0     6\n",
              "2     4\n",
              "3    11\n",
              "4    10\n",
              "6     6\n",
              "8    10\n",
              "9     3\n",
              "dtype: int64"
            ]
          },
          "metadata": {},
          "execution_count": 13
        }
      ]
    },
    {
      "cell_type": "code",
      "source": [
        "s"
      ],
      "metadata": {
        "colab": {
          "base_uri": "https://localhost:8080/"
        },
        "id": "XxwzfWFdmmNb",
        "outputId": "7f2a6f53-0e99-478b-a9af-4201ea2946e1"
      },
      "execution_count": 14,
      "outputs": [
        {
          "output_type": "execute_result",
          "data": {
            "text/plain": [
              "0     6\n",
              "1     6\n",
              "2     4\n",
              "3    11\n",
              "4    10\n",
              "5     5\n",
              "6     6\n",
              "7     9\n",
              "8    10\n",
              "9     3\n",
              "dtype: int64"
            ]
          },
          "metadata": {},
          "execution_count": 14
        }
      ]
    },
    {
      "cell_type": "code",
      "source": [
        "# above drop operation is temp.\n",
        "# in order to make it permenant use inplace\n",
        "s.drop(index=7,inplace=True)"
      ],
      "metadata": {
        "id": "Ex_n61BamqRo"
      },
      "execution_count": 15,
      "outputs": []
    },
    {
      "cell_type": "code",
      "source": [
        "s"
      ],
      "metadata": {
        "colab": {
          "base_uri": "https://localhost:8080/"
        },
        "id": "MG608rdYm4-S",
        "outputId": "73820150-59d5-4cc9-98c4-3e7389b79a5d"
      },
      "execution_count": 16,
      "outputs": [
        {
          "output_type": "execute_result",
          "data": {
            "text/plain": [
              "0     6\n",
              "1     6\n",
              "2     4\n",
              "3    11\n",
              "4    10\n",
              "5     5\n",
              "6     6\n",
              "8    10\n",
              "9     3\n",
              "dtype: int64"
            ]
          },
          "metadata": {},
          "execution_count": 16
        }
      ]
    },
    {
      "cell_type": "code",
      "source": [
        "# we can also supply multiple indices\n",
        "s.drop(index=[0,2,5,8])"
      ],
      "metadata": {
        "colab": {
          "base_uri": "https://localhost:8080/"
        },
        "id": "ltSE1JTGm6eL",
        "outputId": "9900dc6c-0446-46df-8dd2-04dbb748a36d"
      },
      "execution_count": 17,
      "outputs": [
        {
          "output_type": "execute_result",
          "data": {
            "text/plain": [
              "1     6\n",
              "3    11\n",
              "4    10\n",
              "6     6\n",
              "9     3\n",
              "dtype: int64"
            ]
          },
          "metadata": {},
          "execution_count": 17
        }
      ]
    },
    {
      "cell_type": "code",
      "source": [
        "# drop elements from index 4 to 6\n",
        "s.drop(index=range(4,7))"
      ],
      "metadata": {
        "colab": {
          "base_uri": "https://localhost:8080/"
        },
        "id": "QE85UcqYnBIm",
        "outputId": "fc3c95b7-de85-44a1-cf27-f5ff16701a84"
      },
      "execution_count": 18,
      "outputs": [
        {
          "output_type": "execute_result",
          "data": {
            "text/plain": [
              "0     6\n",
              "1     6\n",
              "2     4\n",
              "3    11\n",
              "8    10\n",
              "9     3\n",
              "dtype: int64"
            ]
          },
          "metadata": {},
          "execution_count": 18
        }
      ]
    },
    {
      "cell_type": "code",
      "source": [
        "s"
      ],
      "metadata": {
        "colab": {
          "base_uri": "https://localhost:8080/"
        },
        "id": "u8g927sHnGmB",
        "outputId": "6541aed3-b024-48e4-a538-44f8a36265cf"
      },
      "execution_count": 19,
      "outputs": [
        {
          "output_type": "execute_result",
          "data": {
            "text/plain": [
              "0     6\n",
              "1     6\n",
              "2     4\n",
              "3    11\n",
              "4    10\n",
              "5     5\n",
              "6     6\n",
              "8    10\n",
              "9     3\n",
              "dtype: int64"
            ]
          },
          "metadata": {},
          "execution_count": 19
        }
      ]
    },
    {
      "cell_type": "markdown",
      "source": [
        "# **drop_duplicates()**"
      ],
      "metadata": {
        "id": "8K3IfozGnL1b"
      }
    },
    {
      "cell_type": "code",
      "source": [
        "# Return Series with duplicate values removed.\n",
        "s.drop_duplicates()  # it keeps first occurance"
      ],
      "metadata": {
        "colab": {
          "base_uri": "https://localhost:8080/"
        },
        "id": "b0vuYjyfnJbS",
        "outputId": "9b310785-e0ae-4f81-8030-88837f34bf68"
      },
      "execution_count": 20,
      "outputs": [
        {
          "output_type": "execute_result",
          "data": {
            "text/plain": [
              "0     6\n",
              "2     4\n",
              "3    11\n",
              "4    10\n",
              "5     5\n",
              "9     3\n",
              "dtype: int64"
            ]
          },
          "metadata": {},
          "execution_count": 20
        }
      ]
    },
    {
      "cell_type": "code",
      "source": [
        "# To keeps last occurance\n",
        "s.drop_duplicates(keep='last')"
      ],
      "metadata": {
        "colab": {
          "base_uri": "https://localhost:8080/"
        },
        "id": "GgS2Z8-DnWh9",
        "outputId": "c669eeeb-3f1b-471a-a8a0-d40d64bd782c"
      },
      "execution_count": 21,
      "outputs": [
        {
          "output_type": "execute_result",
          "data": {
            "text/plain": [
              "2     4\n",
              "3    11\n",
              "5     5\n",
              "6     6\n",
              "8    10\n",
              "9     3\n",
              "dtype: int64"
            ]
          },
          "metadata": {},
          "execution_count": 21
        }
      ]
    },
    {
      "cell_type": "code",
      "source": [
        "# if we want to remove all duplicates\n",
        "s.drop_duplicates(keep=False)"
      ],
      "metadata": {
        "colab": {
          "base_uri": "https://localhost:8080/"
        },
        "id": "aYSOn7q1njHt",
        "outputId": "2e8751c3-ac08-4331-ce90-4ef1d8cc9775"
      },
      "execution_count": 22,
      "outputs": [
        {
          "output_type": "execute_result",
          "data": {
            "text/plain": [
              "2     4\n",
              "3    11\n",
              "5     5\n",
              "9     3\n",
              "dtype: int64"
            ]
          },
          "metadata": {},
          "execution_count": 22
        }
      ]
    },
    {
      "cell_type": "code",
      "source": [
        "# Lets deal with NaN: Not a Number\n",
        "# when we have missing entries/Empty/Null value\n",
        "# then its NaN for pandas\n",
        "import numpy as np\n",
        "d = pd.Series([np.nan,100,230,np.nan])\n",
        "d"
      ],
      "metadata": {
        "id": "Cegcp8pAnqGn",
        "colab": {
          "base_uri": "https://localhost:8080/"
        },
        "outputId": "d392d52e-9a4d-4f01-af7c-1bdb7aab2947"
      },
      "execution_count": 23,
      "outputs": [
        {
          "output_type": "execute_result",
          "data": {
            "text/plain": [
              "0      NaN\n",
              "1    100.0\n",
              "2    230.0\n",
              "3      NaN\n",
              "dtype: float64"
            ]
          },
          "metadata": {},
          "execution_count": 23
        }
      ]
    },
    {
      "cell_type": "markdown",
      "source": [
        "## **dropna()**\n",
        "to remove nan\n",
        "\n",
        "Return a new Series with missing values removed.\n"
      ],
      "metadata": {
        "id": "0OnaSg2WVcd6"
      }
    },
    {
      "cell_type": "code",
      "source": [
        "d.dropna()"
      ],
      "metadata": {
        "colab": {
          "base_uri": "https://localhost:8080/"
        },
        "id": "h8yeV0r4VZee",
        "outputId": "cea8f48f-b275-4b65-a370-e73c3bf3c7e8"
      },
      "execution_count": 24,
      "outputs": [
        {
          "output_type": "execute_result",
          "data": {
            "text/plain": [
              "1    100.0\n",
              "2    230.0\n",
              "dtype: float64"
            ]
          },
          "metadata": {},
          "execution_count": 24
        }
      ]
    },
    {
      "cell_type": "markdown",
      "source": [
        "## **isna()**\n",
        "\n",
        "to check missing data\n"
      ],
      "metadata": {
        "id": "YFdb8TxbVqrY"
      }
    },
    {
      "cell_type": "code",
      "source": [
        "d.isna()"
      ],
      "metadata": {
        "colab": {
          "base_uri": "https://localhost:8080/"
        },
        "id": "IEaGEC7OVm_0",
        "outputId": "f2dc46fd-d9ce-46b9-f1f0-5cf3f0ddfdca"
      },
      "execution_count": 25,
      "outputs": [
        {
          "output_type": "execute_result",
          "data": {
            "text/plain": [
              "0     True\n",
              "1    False\n",
              "2    False\n",
              "3     True\n",
              "dtype: bool"
            ]
          },
          "metadata": {},
          "execution_count": 25
        }
      ]
    },
    {
      "cell_type": "markdown",
      "source": [
        "## **isna().sum()**\n",
        "\n",
        "To calculate total NAN values\n"
      ],
      "metadata": {
        "id": "_AJ6r-wKVzlA"
      }
    },
    {
      "cell_type": "code",
      "source": [
        "d.isna().sum()"
      ],
      "metadata": {
        "colab": {
          "base_uri": "https://localhost:8080/"
        },
        "id": "m7PFn53xVwgA",
        "outputId": "456385eb-dae2-47d1-cbb3-b69409c09dc8"
      },
      "execution_count": 26,
      "outputs": [
        {
          "output_type": "execute_result",
          "data": {
            "text/plain": [
              "2"
            ]
          },
          "metadata": {},
          "execution_count": 26
        }
      ]
    },
    {
      "cell_type": "markdown",
      "source": [
        "## **Map()**\n",
        "\n",
        "Map in Python is a function that works as an iterator to return a result after applying a function to every item of an iterable (tuple, lists, etc.)."
      ],
      "metadata": {
        "id": "hde-l54LWADE"
      }
    },
    {
      "cell_type": "code",
      "source": [
        "nm = pd.Series(['Male','Female','Male','Female','Female'])\n",
        "nm"
      ],
      "metadata": {
        "colab": {
          "base_uri": "https://localhost:8080/"
        },
        "id": "_aWraDQRV-Rj",
        "outputId": "7557ac44-e79e-49b2-de68-c1695e8f5429"
      },
      "execution_count": 28,
      "outputs": [
        {
          "output_type": "execute_result",
          "data": {
            "text/plain": [
              "0      Male\n",
              "1    Female\n",
              "2      Male\n",
              "3    Female\n",
              "4    Female\n",
              "dtype: object"
            ]
          },
          "metadata": {},
          "execution_count": 28
        }
      ]
    },
    {
      "cell_type": "code",
      "source": [
        "nm.map({'Male':0,'Female':1})"
      ],
      "metadata": {
        "colab": {
          "base_uri": "https://localhost:8080/"
        },
        "id": "yH1VRC9dWEBC",
        "outputId": "85b4b1f5-f122-4b72-a169-694e82f53b59"
      },
      "execution_count": 29,
      "outputs": [
        {
          "output_type": "execute_result",
          "data": {
            "text/plain": [
              "0    0\n",
              "1    1\n",
              "2    0\n",
              "3    1\n",
              "4    1\n",
              "dtype: int64"
            ]
          },
          "metadata": {},
          "execution_count": 29
        }
      ]
    },
    {
      "cell_type": "code",
      "source": [
        "nm"
      ],
      "metadata": {
        "colab": {
          "base_uri": "https://localhost:8080/"
        },
        "id": "3GpWIZFfXGmg",
        "outputId": "a910f4b4-dd23-4dcb-92a7-e37e0cb01005"
      },
      "execution_count": 33,
      "outputs": [
        {
          "output_type": "execute_result",
          "data": {
            "text/plain": [
              "0      Male\n",
              "1    Female\n",
              "2      Male\n",
              "3    Female\n",
              "4    Female\n",
              "dtype: object"
            ]
          },
          "metadata": {},
          "execution_count": 33
        }
      ]
    },
    {
      "cell_type": "markdown",
      "source": [
        "## **replace()**\n",
        "Replace values given in `to_replace` with `value`."
      ],
      "metadata": {
        "id": "2xhMkozOWyyZ"
      }
    },
    {
      "cell_type": "code",
      "source": [
        "nm.replace?"
      ],
      "metadata": {
        "id": "JVnCOJcbWpeg"
      },
      "execution_count": 31,
      "outputs": []
    },
    {
      "cell_type": "code",
      "source": [
        "nm.replace({'Male':0})"
      ],
      "metadata": {
        "colab": {
          "base_uri": "https://localhost:8080/"
        },
        "id": "8oKUqRHsWsU0",
        "outputId": "db222019-f719-4b05-b78f-0ef343d7df84"
      },
      "execution_count": 32,
      "outputs": [
        {
          "output_type": "execute_result",
          "data": {
            "text/plain": [
              "0         0\n",
              "1    Female\n",
              "2         0\n",
              "3    Female\n",
              "4    Female\n",
              "dtype: object"
            ]
          },
          "metadata": {},
          "execution_count": 32
        }
      ]
    },
    {
      "cell_type": "code",
      "source": [
        "nm.replace({'Male':0,'Female':1})"
      ],
      "metadata": {
        "colab": {
          "base_uri": "https://localhost:8080/"
        },
        "id": "lz3ENpEbXCv5",
        "outputId": "64cb91f1-73a0-4504-fb0c-480507d17d6e"
      },
      "execution_count": 35,
      "outputs": [
        {
          "output_type": "execute_result",
          "data": {
            "text/plain": [
              "0    0\n",
              "1    1\n",
              "2    0\n",
              "3    1\n",
              "4    1\n",
              "dtype: int64"
            ]
          },
          "metadata": {},
          "execution_count": 35
        }
      ]
    },
    {
      "cell_type": "code",
      "source": [
        "nm.str.replace('Male','0').str.replace('Female','1')"
      ],
      "metadata": {
        "colab": {
          "base_uri": "https://localhost:8080/"
        },
        "id": "yGJh5yVDXJfT",
        "outputId": "91d8e34d-a3ff-446d-8502-a3a51bddc328"
      },
      "execution_count": 36,
      "outputs": [
        {
          "output_type": "execute_result",
          "data": {
            "text/plain": [
              "0    0\n",
              "1    1\n",
              "2    0\n",
              "3    1\n",
              "4    1\n",
              "dtype: object"
            ]
          },
          "metadata": {},
          "execution_count": 36
        }
      ]
    },
    {
      "cell_type": "markdown",
      "source": [
        "# **nlargest()**\n",
        "\n",
        "Return the largest `n` elements.\n",
        "\n",
        "default 5 Return descending sorted values."
      ],
      "metadata": {
        "id": "fyrW3f2HXzyw"
      }
    },
    {
      "cell_type": "code",
      "source": [
        "pd.Series.nlargest?"
      ],
      "metadata": {
        "id": "TkjtiAJaXwud"
      },
      "execution_count": 39,
      "outputs": []
    },
    {
      "cell_type": "code",
      "source": [
        "s = pd.Series([12,2,4,56,77,911,0,123,245,600,10,11])\n",
        "s"
      ],
      "metadata": {
        "colab": {
          "base_uri": "https://localhost:8080/"
        },
        "id": "fo3ntcLbX40y",
        "outputId": "447156e5-d9b6-451c-e8bf-ea1594973be5"
      },
      "execution_count": 38,
      "outputs": [
        {
          "output_type": "execute_result",
          "data": {
            "text/plain": [
              "0      12\n",
              "1       2\n",
              "2       4\n",
              "3      56\n",
              "4      77\n",
              "5     911\n",
              "6       0\n",
              "7     123\n",
              "8     245\n",
              "9     600\n",
              "10     10\n",
              "11     11\n",
              "dtype: int64"
            ]
          },
          "metadata": {},
          "execution_count": 38
        }
      ]
    },
    {
      "cell_type": "code",
      "source": [
        "s.nlargest()\n",
        "# sort  a Series in Descending order\n",
        "# default it return 5 values[High to low]"
      ],
      "metadata": {
        "colab": {
          "base_uri": "https://localhost:8080/"
        },
        "id": "6vB_EofKYE8G",
        "outputId": "54610ce7-18ac-4584-a0c8-56259942c694"
      },
      "execution_count": 41,
      "outputs": [
        {
          "output_type": "execute_result",
          "data": {
            "text/plain": [
              "5    911\n",
              "9    600\n",
              "8    245\n",
              "7    123\n",
              "4     77\n",
              "dtype: int64"
            ]
          },
          "metadata": {},
          "execution_count": 41
        }
      ]
    },
    {
      "cell_type": "code",
      "source": [
        "# check total elements present in s\n",
        "s.size"
      ],
      "metadata": {
        "colab": {
          "base_uri": "https://localhost:8080/"
        },
        "id": "IPUaQN8RYVoy",
        "outputId": "95a5e1e4-be17-4636-9344-e194724ba83b"
      },
      "execution_count": 42,
      "outputs": [
        {
          "output_type": "execute_result",
          "data": {
            "text/plain": [
              "12"
            ]
          },
          "metadata": {},
          "execution_count": 42
        }
      ]
    },
    {
      "cell_type": "code",
      "source": [
        "# if we want more values then\n",
        "s.nlargest(3)"
      ],
      "metadata": {
        "colab": {
          "base_uri": "https://localhost:8080/"
        },
        "id": "Z6hilZGSYdmS",
        "outputId": "3bf8b91a-4de0-4d37-8bfb-7dfc110c4c08"
      },
      "execution_count": 43,
      "outputs": [
        {
          "output_type": "execute_result",
          "data": {
            "text/plain": [
              "5    911\n",
              "9    600\n",
              "8    245\n",
              "dtype: int64"
            ]
          },
          "metadata": {},
          "execution_count": 43
        }
      ]
    },
    {
      "cell_type": "markdown",
      "source": [
        "## **nsmallest()**\n",
        "\n",
        "return values in ascending order\n",
        "\n",
        "low to High\n",
        "\n",
        "Return the smallest n elements."
      ],
      "metadata": {
        "id": "i3vCb2IWYoTD"
      }
    },
    {
      "cell_type": "code",
      "source": [
        "s.nsmallest()"
      ],
      "metadata": {
        "colab": {
          "base_uri": "https://localhost:8080/"
        },
        "id": "66ovVmCvYizm",
        "outputId": "78119971-1e4f-4f6b-d904-741fdf190ea3"
      },
      "execution_count": 44,
      "outputs": [
        {
          "output_type": "execute_result",
          "data": {
            "text/plain": [
              "6      0\n",
              "1      2\n",
              "2      4\n",
              "10    10\n",
              "11    11\n",
              "dtype: int64"
            ]
          },
          "metadata": {},
          "execution_count": 44
        }
      ]
    },
    {
      "cell_type": "code",
      "source": [
        "s.nsmallest(3)"
      ],
      "metadata": {
        "colab": {
          "base_uri": "https://localhost:8080/"
        },
        "id": "Pw5gyLMkZBn0",
        "outputId": "c0527439-2caf-4f4a-c1ba-07b7a05e2b83"
      },
      "execution_count": 45,
      "outputs": [
        {
          "output_type": "execute_result",
          "data": {
            "text/plain": [
              "6    0\n",
              "1    2\n",
              "2    4\n",
              "dtype: int64"
            ]
          },
          "metadata": {},
          "execution_count": 45
        }
      ]
    },
    {
      "cell_type": "markdown",
      "source": [
        "## **unique()**\n",
        "Return unique values of Series object.\n"
      ],
      "metadata": {
        "id": "wFnHUPjAZNSs"
      }
    },
    {
      "cell_type": "code",
      "source": [
        "pd.Series.unique?"
      ],
      "metadata": {
        "id": "4f4FwSGrZD23"
      },
      "execution_count": 47,
      "outputs": []
    },
    {
      "cell_type": "code",
      "source": [
        "x = pd.Series(['A','B','C','A','A','B'])\n",
        "x"
      ],
      "metadata": {
        "colab": {
          "base_uri": "https://localhost:8080/"
        },
        "id": "Ac_wJMChZIWQ",
        "outputId": "a2aa13ed-cffa-4919-eb63-589fb39943f6"
      },
      "execution_count": 48,
      "outputs": [
        {
          "output_type": "execute_result",
          "data": {
            "text/plain": [
              "0    A\n",
              "1    B\n",
              "2    C\n",
              "3    A\n",
              "4    A\n",
              "5    B\n",
              "dtype: object"
            ]
          },
          "metadata": {},
          "execution_count": 48
        }
      ]
    },
    {
      "cell_type": "code",
      "source": [
        "x.unique()"
      ],
      "metadata": {
        "colab": {
          "base_uri": "https://localhost:8080/"
        },
        "id": "7imj-bExZUbU",
        "outputId": "9ce31b1e-22c3-48ed-db3e-4ad651387a29"
      },
      "execution_count": 49,
      "outputs": [
        {
          "output_type": "execute_result",
          "data": {
            "text/plain": [
              "array(['A', 'B', 'C'], dtype=object)"
            ]
          },
          "metadata": {},
          "execution_count": 49
        }
      ]
    },
    {
      "cell_type": "code",
      "source": [
        "set(x)"
      ],
      "metadata": {
        "colab": {
          "base_uri": "https://localhost:8080/"
        },
        "id": "XCGaYfKoZXXU",
        "outputId": "c554e9e2-762e-445e-a8c8-2ddcdfc4eb8d"
      },
      "execution_count": 50,
      "outputs": [
        {
          "output_type": "execute_result",
          "data": {
            "text/plain": [
              "{'A', 'B', 'C'}"
            ]
          },
          "metadata": {},
          "execution_count": 50
        }
      ]
    },
    {
      "cell_type": "markdown",
      "source": [
        "# **nunique()**\n",
        "\n",
        "to get a count of unique reocrds use nunique()\n"
      ],
      "metadata": {
        "id": "YpNPeMp2ZcN7"
      }
    },
    {
      "cell_type": "code",
      "source": [
        "x"
      ],
      "metadata": {
        "colab": {
          "base_uri": "https://localhost:8080/"
        },
        "id": "Y4YBaremZY2Q",
        "outputId": "90c363e5-5f08-4607-be57-dde35acba020"
      },
      "execution_count": 51,
      "outputs": [
        {
          "output_type": "execute_result",
          "data": {
            "text/plain": [
              "0    A\n",
              "1    B\n",
              "2    C\n",
              "3    A\n",
              "4    A\n",
              "5    B\n",
              "dtype: object"
            ]
          },
          "metadata": {},
          "execution_count": 51
        }
      ]
    },
    {
      "cell_type": "code",
      "source": [
        "x.nunique()"
      ],
      "metadata": {
        "colab": {
          "base_uri": "https://localhost:8080/"
        },
        "id": "SU_TSJkrarUO",
        "outputId": "f0e56aa3-301a-479e-81fe-f88202aa9a37"
      },
      "execution_count": 52,
      "outputs": [
        {
          "output_type": "execute_result",
          "data": {
            "text/plain": [
              "3"
            ]
          },
          "metadata": {},
          "execution_count": 52
        }
      ]
    },
    {
      "cell_type": "markdown",
      "source": [
        "# **Value_counts()**\n",
        "\n",
        "Categorywise count will b given by value_counts"
      ],
      "metadata": {
        "id": "oIPPUUjiayBj"
      }
    },
    {
      "cell_type": "code",
      "source": [
        "x.value_counts()  #per category count"
      ],
      "metadata": {
        "colab": {
          "base_uri": "https://localhost:8080/"
        },
        "id": "LPJPKJbkasoZ",
        "outputId": "3b44109e-8186-4bcc-846a-4b7c06803d56"
      },
      "execution_count": 53,
      "outputs": [
        {
          "output_type": "execute_result",
          "data": {
            "text/plain": [
              "A    3\n",
              "B    2\n",
              "C    1\n",
              "dtype: int64"
            ]
          },
          "metadata": {},
          "execution_count": 53
        }
      ]
    },
    {
      "cell_type": "markdown",
      "source": [
        "# **Convert a Series into....**"
      ],
      "metadata": {
        "id": "z9TCmYWhbBRV"
      }
    },
    {
      "cell_type": "code",
      "source": [
        "s"
      ],
      "metadata": {
        "colab": {
          "base_uri": "https://localhost:8080/"
        },
        "id": "v00kGfb5a7Hr",
        "outputId": "f894e6f8-4afe-43d5-8b83-7e4534676bb9"
      },
      "execution_count": 54,
      "outputs": [
        {
          "output_type": "execute_result",
          "data": {
            "text/plain": [
              "0      12\n",
              "1       2\n",
              "2       4\n",
              "3      56\n",
              "4      77\n",
              "5     911\n",
              "6       0\n",
              "7     123\n",
              "8     245\n",
              "9     600\n",
              "10     10\n",
              "11     11\n",
              "dtype: int64"
            ]
          },
          "metadata": {},
          "execution_count": 54
        }
      ]
    },
    {
      "cell_type": "code",
      "source": [
        "# convert a series to numpy array\n",
        "s.to_numpy()"
      ],
      "metadata": {
        "colab": {
          "base_uri": "https://localhost:8080/"
        },
        "id": "sThvN9Q_bDbQ",
        "outputId": "a3829ab5-68a1-4428-bab7-3553ddad124a"
      },
      "execution_count": 55,
      "outputs": [
        {
          "output_type": "execute_result",
          "data": {
            "text/plain": [
              "array([ 12,   2,   4,  56,  77, 911,   0, 123, 245, 600,  10,  11])"
            ]
          },
          "metadata": {},
          "execution_count": 55
        }
      ]
    },
    {
      "cell_type": "code",
      "source": [
        "s.values"
      ],
      "metadata": {
        "colab": {
          "base_uri": "https://localhost:8080/"
        },
        "id": "GfHGOclrbM2n",
        "outputId": "cda85941-4a0a-4e66-c57b-553ab09f7f37"
      },
      "execution_count": 56,
      "outputs": [
        {
          "output_type": "execute_result",
          "data": {
            "text/plain": [
              "array([ 12,   2,   4,  56,  77, 911,   0, 123, 245, 600,  10,  11])"
            ]
          },
          "metadata": {},
          "execution_count": 56
        }
      ]
    },
    {
      "cell_type": "code",
      "source": [
        "#using np\n",
        "import numpy as np\n",
        "np.array(s)"
      ],
      "metadata": {
        "colab": {
          "base_uri": "https://localhost:8080/"
        },
        "id": "OUu_cCGJbOYV",
        "outputId": "a4f16438-81c5-4bd4-96e4-5035c4564f9a"
      },
      "execution_count": 58,
      "outputs": [
        {
          "output_type": "execute_result",
          "data": {
            "text/plain": [
              "array([ 12,   2,   4,  56,  77, 911,   0, 123, 245, 600,  10,  11])"
            ]
          },
          "metadata": {},
          "execution_count": 58
        }
      ]
    },
    {
      "cell_type": "code",
      "source": [
        "# convert a series to csv file\n",
        "s.to_csv('file.csv')   #convert"
      ],
      "metadata": {
        "id": "f9h4GWSabUST"
      },
      "execution_count": 59,
      "outputs": []
    },
    {
      "cell_type": "code",
      "source": [
        "s.to_csv('file1.csv',index=False,header=False)"
      ],
      "metadata": {
        "id": "2LkuB-gMbkih"
      },
      "execution_count": 60,
      "outputs": []
    },
    {
      "cell_type": "code",
      "source": [
        "# series to dict\n",
        "print(s.to_dict())"
      ],
      "metadata": {
        "colab": {
          "base_uri": "https://localhost:8080/"
        },
        "id": "FACDr6qTbxed",
        "outputId": "1419e38d-924c-4249-9382-d9ab618983c6"
      },
      "execution_count": 61,
      "outputs": [
        {
          "output_type": "stream",
          "name": "stdout",
          "text": [
            "{0: 12, 1: 2, 2: 4, 3: 56, 4: 77, 5: 911, 6: 0, 7: 123, 8: 245, 9: 600, 10: 10, 11: 11}\n"
          ]
        }
      ]
    },
    {
      "cell_type": "code",
      "source": [
        "print(dict(s))"
      ],
      "metadata": {
        "colab": {
          "base_uri": "https://localhost:8080/"
        },
        "id": "_g6xt3pwb59n",
        "outputId": "1ce62413-2dae-4fad-d794-452abf9ae734"
      },
      "execution_count": 62,
      "outputs": [
        {
          "output_type": "stream",
          "name": "stdout",
          "text": [
            "{0: 12, 1: 2, 2: 4, 3: 56, 4: 77, 5: 911, 6: 0, 7: 123, 8: 245, 9: 600, 10: 10, 11: 11}\n"
          ]
        }
      ]
    },
    {
      "cell_type": "code",
      "source": [
        "#convert a Series to list\n",
        "list(s)"
      ],
      "metadata": {
        "colab": {
          "base_uri": "https://localhost:8080/"
        },
        "id": "YcZpi-4yb8JB",
        "outputId": "ddbfeede-b6db-490e-c8eb-c5e28cff982d"
      },
      "execution_count": 63,
      "outputs": [
        {
          "output_type": "execute_result",
          "data": {
            "text/plain": [
              "[12, 2, 4, 56, 77, 911, 0, 123, 245, 600, 10, 11]"
            ]
          },
          "metadata": {},
          "execution_count": 63
        }
      ]
    },
    {
      "cell_type": "code",
      "source": [
        "s.to_list()"
      ],
      "metadata": {
        "colab": {
          "base_uri": "https://localhost:8080/"
        },
        "id": "bIzYg-SAcARu",
        "outputId": "24569147-a1fe-4ac6-fcff-77a5458b8faa"
      },
      "execution_count": 64,
      "outputs": [
        {
          "output_type": "execute_result",
          "data": {
            "text/plain": [
              "[12, 2, 4, 56, 77, 911, 0, 123, 245, 600, 10, 11]"
            ]
          },
          "metadata": {},
          "execution_count": 64
        }
      ]
    },
    {
      "cell_type": "markdown",
      "source": [
        "# **head()**\n",
        "\n",
        "to display first 5 records default\n",
        "\n"
      ],
      "metadata": {
        "id": "_Hqf96frcD9I"
      }
    },
    {
      "cell_type": "code",
      "source": [
        "s"
      ],
      "metadata": {
        "colab": {
          "base_uri": "https://localhost:8080/"
        },
        "id": "CELvS2zIcCeG",
        "outputId": "2ed53e3f-c790-4e37-a273-dc24e66b6ff5"
      },
      "execution_count": 65,
      "outputs": [
        {
          "output_type": "execute_result",
          "data": {
            "text/plain": [
              "0      12\n",
              "1       2\n",
              "2       4\n",
              "3      56\n",
              "4      77\n",
              "5     911\n",
              "6       0\n",
              "7     123\n",
              "8     245\n",
              "9     600\n",
              "10     10\n",
              "11     11\n",
              "dtype: int64"
            ]
          },
          "metadata": {},
          "execution_count": 65
        }
      ]
    },
    {
      "cell_type": "code",
      "source": [
        "s.head()"
      ],
      "metadata": {
        "colab": {
          "base_uri": "https://localhost:8080/"
        },
        "id": "SuNyEgTOcLXk",
        "outputId": "8b72997f-8572-4778-b935-1712ad121325"
      },
      "execution_count": 66,
      "outputs": [
        {
          "output_type": "execute_result",
          "data": {
            "text/plain": [
              "0    12\n",
              "1     2\n",
              "2     4\n",
              "3    56\n",
              "4    77\n",
              "dtype: int64"
            ]
          },
          "metadata": {},
          "execution_count": 66
        }
      ]
    },
    {
      "cell_type": "code",
      "source": [
        "s.head(2)"
      ],
      "metadata": {
        "colab": {
          "base_uri": "https://localhost:8080/"
        },
        "id": "7RvBsQG3cMWr",
        "outputId": "1f6f9dae-a51c-4423-bb7d-ae485a975a02"
      },
      "execution_count": 67,
      "outputs": [
        {
          "output_type": "execute_result",
          "data": {
            "text/plain": [
              "0    12\n",
              "1     2\n",
              "dtype: int64"
            ]
          },
          "metadata": {},
          "execution_count": 67
        }
      ]
    },
    {
      "cell_type": "markdown",
      "source": [
        "# **tail()**\n",
        "\n",
        "returns last 5 records"
      ],
      "metadata": {
        "id": "IAQEvDx1cQUj"
      }
    },
    {
      "cell_type": "code",
      "source": [
        "s.tail()"
      ],
      "metadata": {
        "colab": {
          "base_uri": "https://localhost:8080/"
        },
        "id": "ml6XJNb1cOt0",
        "outputId": "36b6a0d7-8551-41d1-cfb4-8dbceb37cf2f"
      },
      "execution_count": 68,
      "outputs": [
        {
          "output_type": "execute_result",
          "data": {
            "text/plain": [
              "7     123\n",
              "8     245\n",
              "9     600\n",
              "10     10\n",
              "11     11\n",
              "dtype: int64"
            ]
          },
          "metadata": {},
          "execution_count": 68
        }
      ]
    },
    {
      "cell_type": "code",
      "source": [
        "s.tail(2)"
      ],
      "metadata": {
        "colab": {
          "base_uri": "https://localhost:8080/"
        },
        "id": "s47fkm4AcZIx",
        "outputId": "1a84b116-f054-453b-c0ef-6dd447e15772"
      },
      "execution_count": 69,
      "outputs": [
        {
          "output_type": "execute_result",
          "data": {
            "text/plain": [
              "10    10\n",
              "11    11\n",
              "dtype: int64"
            ]
          },
          "metadata": {},
          "execution_count": 69
        }
      ]
    },
    {
      "cell_type": "code",
      "source": [],
      "metadata": {
        "id": "gl_UjSgeca-w"
      },
      "execution_count": null,
      "outputs": []
    }
  ]
}